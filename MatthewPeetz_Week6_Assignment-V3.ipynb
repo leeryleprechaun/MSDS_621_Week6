{
 "cells": [
  {
   "cell_type": "markdown",
   "metadata": {},
   "source": [
    "# Matthew Peetz\n",
    "# MSDS 621\n",
    "# Regis University\n",
    "# Week 6 Lab: APIs"
   ]
  },
  {
   "cell_type": "markdown",
   "metadata": {},
   "source": [
    "## Introduction\n",
    "\n",
    "I have been lucky enough to live in Denver, CO my entire life. I am very interested to see how the climate has changed in recent years, specifically in terms of local rainfall. I was able to find precipitation data from a wheather station near my home from 2013 - 2023. I will be pulling that information off the NOAA site using their API and storing it in an excel file."
   ]
  },
  {
   "cell_type": "code",
   "execution_count": 1,
   "metadata": {},
   "outputs": [
    {
     "data": {
      "text/plain": [
       "'KuhdaKeCidqAAzJqutEGIYqgucDPTzga'"
      ]
     },
     "execution_count": 1,
     "metadata": {},
     "output_type": "execute_result"
    }
   ],
   "source": [
    "### Remove or comment out this cell\n",
    "import pandas as pd\n",
    "\n",
    "# loading my specific credentials\n",
    "data = pd.read_csv('data_wk6/mipauth2.csv',header=0)\n",
    "\n",
    "# setting up some variables for the API. \n",
    "my_token = data['token'][0]\n",
    "my_token"
   ]
  },
  {
   "cell_type": "markdown",
   "metadata": {},
   "source": [
    "Below is a picture of the weather station and its location."
   ]
  },
  {
   "cell_type": "markdown",
   "metadata": {},
   "source": [
    "#### View the Results of Your Query\n",
    "To see the results of your specific query, click on the station icon. From the Find A Station results, we will need to capture the following details:\n",
    "\n",
    "   * Capture the values within the 'Network' and 'Id' fields (second cell from top, split on ':')\n",
    "\n",
    "<img align=\"left\" style=\"padding-right:10px;\" src=\"figures_wk6/week6_image_1.png\" ><br>"
   ]
  },
  {
   "cell_type": "code",
   "execution_count": 2,
   "metadata": {},
   "outputs": [
    {
     "name": "stdout",
     "output_type": "stream",
     "text": [
      "GHCND:US1COAR0246\n"
     ]
    }
   ],
   "source": [
    "# variables based on my station search\n",
    "network = 'GHCND'\n",
    "ID = 'US1COAR0246'\n",
    "\n",
    "# station_id = network:ID\n",
    "station_id = network + ':' + ID\n",
    "print(station_id)"
   ]
  },
  {
   "cell_type": "markdown",
   "metadata": {},
   "source": [
    "### What type of data are we looking for?\n",
    "The data set includes a couple of interesting features:\n",
    "* PRCP - total liquid precipitation for the year\n",
    "* WESD - water equivalent of snow on the ground\n",
    "* WESF - water equivalent of snowfall"
   ]
  },
  {
   "cell_type": "markdown",
   "metadata": {},
   "source": [
    "Testing to see if there is a connection to the sites API and what the dictionary key values are"
   ]
  },
  {
   "cell_type": "code",
   "execution_count": 3,
   "metadata": {},
   "outputs": [],
   "source": [
    "import requests\n",
    "import json\n",
    "\n",
    "# building the parameter dictionary\n",
    "# 'limit = 1000' --> What does this do? Look at the NOAA API documentation\n",
    "data = {}\n",
    "data = {'limit':'1000', 'datasetid': network, 'station_id': station_id}\n",
    "\n",
    "# calling NOAA API to get the available datatypes for this specific station\n",
    "r = requests.get('https://www.ncdc.noaa.gov/cdo-web/api/v2/datatypes',params = data, headers = {'token':my_token})"
   ]
  },
  {
   "cell_type": "markdown",
   "metadata": {},
   "source": [
    "Now we need to convert the JSON output from the request to something more readable"
   ]
  },
  {
   "cell_type": "code",
   "execution_count": 4,
   "metadata": {},
   "outputs": [
    {
     "data": {
      "text/plain": [
       "dict_keys(['metadata', 'results'])"
      ]
     },
     "execution_count": 4,
     "metadata": {},
     "output_type": "execute_result"
    }
   ],
   "source": [
    "# JSON to dictionary\n",
    "datatypes_dict = json.loads(r.text)\n",
    "\n",
    "# need the keys from this dictionary\n",
    "datatypes_dict.keys()\n"
   ]
  },
  {
   "cell_type": "code",
   "execution_count": 5,
   "metadata": {},
   "outputs": [
    {
     "data": {
      "text/plain": [
       "[{'mindate': '1994-03-19',\n",
       "  'maxdate': '1996-05-28',\n",
       "  'name': 'Average cloudiness midnight to midnight from 30-second ceilometer data',\n",
       "  'datacoverage': 1,\n",
       "  'id': 'ACMC'},\n",
       " {'mindate': '1965-01-01',\n",
       "  'maxdate': '2005-12-31',\n",
       "  'name': 'Average cloudiness midnight to midnight from manual observations',\n",
       "  'datacoverage': 1,\n",
       "  'id': 'ACMH'},\n",
       " {'mindate': '1994-02-01',\n",
       "  'maxdate': '1996-05-28',\n",
       "  'name': 'Average cloudiness sunrise to sunset from 30-second ceilometer data',\n",
       "  'datacoverage': 1,\n",
       "  'id': 'ACSC'},\n",
       " {'mindate': '1965-01-01',\n",
       "  'maxdate': '2005-12-31',\n",
       "  'name': 'Average cloudiness sunrise to sunset from manual observations',\n",
       "  'datacoverage': 1,\n",
       "  'id': 'ACSH'},\n",
       " {'mindate': '1982-01-01',\n",
       "  'maxdate': '2023-07-23',\n",
       "  'name': 'Average wind speed',\n",
       "  'datacoverage': 1,\n",
       "  'id': 'AWND'},\n",
       " {'mindate': '1948-08-02',\n",
       "  'maxdate': '2012-07-23',\n",
       "  'name': 'Number of days included in the multiday evaporation total (MDEV)',\n",
       "  'datacoverage': 1,\n",
       "  'id': 'DAEV'},\n",
       " {'mindate': '1832-05-11',\n",
       "  'maxdate': '2023-07-23',\n",
       "  'name': 'Number of days included in the multiday precipitation total (MDPR)',\n",
       "  'datacoverage': 1,\n",
       "  'id': 'DAPR'},\n",
       " {'mindate': '1877-01-02',\n",
       "  'maxdate': '2022-11-20',\n",
       "  'name': 'Number of days included in the multiday snow fall total (MDSF) ',\n",
       "  'datacoverage': 1,\n",
       "  'id': 'DASF'},\n",
       " {'mindate': '1863-05-04',\n",
       "  'maxdate': '2023-07-15',\n",
       "  'name': 'Number of days included in the multiday minimum temperature (MDTN)',\n",
       "  'datacoverage': 1,\n",
       "  'id': 'DATN'},\n",
       " {'mindate': '1863-05-04',\n",
       "  'maxdate': '2023-07-14',\n",
       "  'name': 'Number of days included in the multiday maximum temperature (MDTX)',\n",
       "  'datacoverage': 1,\n",
       "  'id': 'DATX'}]"
      ]
     },
     "execution_count": 5,
     "metadata": {},
     "output_type": "execute_result"
    }
   ],
   "source": [
    "datatypes_dict['results'][:10]"
   ]
  },
  {
   "cell_type": "markdown",
   "metadata": {},
   "source": [
    "Setting up the data requests for the API"
   ]
  },
  {
   "cell_type": "code",
   "execution_count": 6,
   "metadata": {},
   "outputs": [
    {
     "data": {
      "text/plain": [
       "{'limit': '1000',\n",
       " 'datasetid': 'GHCND',\n",
       " 'stationid': 'GHCND:US1COAR0246',\n",
       " 'datatypeid': 'PRCP, WESD, WESF',\n",
       " 'startdate': '2013-05-14',\n",
       " 'enddate': '2013-12-31',\n",
       " 'units': 'standard'}"
      ]
     },
     "execution_count": 6,
     "metadata": {},
     "output_type": "execute_result"
    }
   ],
   "source": [
    "data = {}\n",
    "data = {'limit':'1000', 'datasetid': network, 'stationid': station_id}\n",
    "\n",
    "\n",
    "# append additional parameters to data dictionary\n",
    "data.update({'datatypeid': 'PRCP, WESD, WESF'})\n",
    "data.update({'startdate': '2013-05-14'})\n",
    "data.update({'enddate': '2013-12-31'})\n",
    "data.update({'units':'standard'})\n",
    "data"
   ]
  },
  {
   "cell_type": "markdown",
   "metadata": {},
   "source": [
    "Pulling the results for 2013 from the website"
   ]
  },
  {
   "cell_type": "code",
   "execution_count": 7,
   "metadata": {},
   "outputs": [],
   "source": [
    "# make the request to get our year of data\n",
    "r = requests.get('https://www.ncdc.noaa.gov/cdo-web/api/v2/data',params = data, headers = {'token':my_token})\n",
    "\n",
    "#load the api response as a json\n",
    "prcp_2013_dict = json.loads(r.text)"
   ]
  },
  {
   "cell_type": "code",
   "execution_count": 8,
   "metadata": {},
   "outputs": [
    {
     "data": {
      "text/plain": [
       "[{'date': '2013-05-14T00:00:00',\n",
       "  'datatype': 'PRCP',\n",
       "  'station': 'GHCND:US1COAR0246',\n",
       "  'attributes': ',,N,0730',\n",
       "  'value': 0.0},\n",
       " {'date': '2013-05-15T00:00:00',\n",
       "  'datatype': 'PRCP',\n",
       "  'station': 'GHCND:US1COAR0246',\n",
       "  'attributes': 'T,,N,0700',\n",
       "  'value': 0.0},\n",
       " {'date': '2013-05-16T00:00:00',\n",
       "  'datatype': 'PRCP',\n",
       "  'station': 'GHCND:US1COAR0246',\n",
       "  'attributes': ',,N,0730',\n",
       "  'value': 0.04},\n",
       " {'date': '2013-05-17T00:00:00',\n",
       "  'datatype': 'PRCP',\n",
       "  'station': 'GHCND:US1COAR0246',\n",
       "  'attributes': ',,N,0700',\n",
       "  'value': 0.0},\n",
       " {'date': '2013-05-20T00:00:00',\n",
       "  'datatype': 'PRCP',\n",
       "  'station': 'GHCND:US1COAR0246',\n",
       "  'attributes': ',,N,0800',\n",
       "  'value': 0.04}]"
      ]
     },
     "execution_count": 8,
     "metadata": {},
     "output_type": "execute_result"
    }
   ],
   "source": [
    "# look at the first record of our data\n",
    "prcp_2013_dict['results'][:5]"
   ]
  },
  {
   "cell_type": "markdown",
   "metadata": {},
   "source": [
    "Putting the dictionary into a pandas data frame"
   ]
  },
  {
   "cell_type": "code",
   "execution_count": 9,
   "metadata": {},
   "outputs": [
    {
     "data": {
      "text/html": [
       "<div>\n",
       "<style scoped>\n",
       "    .dataframe tbody tr th:only-of-type {\n",
       "        vertical-align: middle;\n",
       "    }\n",
       "\n",
       "    .dataframe tbody tr th {\n",
       "        vertical-align: top;\n",
       "    }\n",
       "\n",
       "    .dataframe thead th {\n",
       "        text-align: right;\n",
       "    }\n",
       "</style>\n",
       "<table border=\"1\" class=\"dataframe\">\n",
       "  <thead>\n",
       "    <tr style=\"text-align: right;\">\n",
       "      <th></th>\n",
       "      <th>date</th>\n",
       "      <th>datatype</th>\n",
       "      <th>station</th>\n",
       "      <th>attributes</th>\n",
       "      <th>value</th>\n",
       "    </tr>\n",
       "  </thead>\n",
       "  <tbody>\n",
       "    <tr>\n",
       "      <th>0</th>\n",
       "      <td>2013-05-14T00:00:00</td>\n",
       "      <td>PRCP</td>\n",
       "      <td>GHCND:US1COAR0246</td>\n",
       "      <td>,,N,0730</td>\n",
       "      <td>0.00</td>\n",
       "    </tr>\n",
       "    <tr>\n",
       "      <th>1</th>\n",
       "      <td>2013-05-15T00:00:00</td>\n",
       "      <td>PRCP</td>\n",
       "      <td>GHCND:US1COAR0246</td>\n",
       "      <td>T,,N,0700</td>\n",
       "      <td>0.00</td>\n",
       "    </tr>\n",
       "    <tr>\n",
       "      <th>2</th>\n",
       "      <td>2013-05-16T00:00:00</td>\n",
       "      <td>PRCP</td>\n",
       "      <td>GHCND:US1COAR0246</td>\n",
       "      <td>,,N,0730</td>\n",
       "      <td>0.04</td>\n",
       "    </tr>\n",
       "    <tr>\n",
       "      <th>3</th>\n",
       "      <td>2013-05-17T00:00:00</td>\n",
       "      <td>PRCP</td>\n",
       "      <td>GHCND:US1COAR0246</td>\n",
       "      <td>,,N,0700</td>\n",
       "      <td>0.00</td>\n",
       "    </tr>\n",
       "    <tr>\n",
       "      <th>4</th>\n",
       "      <td>2013-05-20T00:00:00</td>\n",
       "      <td>PRCP</td>\n",
       "      <td>GHCND:US1COAR0246</td>\n",
       "      <td>,,N,0800</td>\n",
       "      <td>0.04</td>\n",
       "    </tr>\n",
       "    <tr>\n",
       "      <th>...</th>\n",
       "      <td>...</td>\n",
       "      <td>...</td>\n",
       "      <td>...</td>\n",
       "      <td>...</td>\n",
       "      <td>...</td>\n",
       "    </tr>\n",
       "    <tr>\n",
       "      <th>211</th>\n",
       "      <td>2013-12-18T00:00:00</td>\n",
       "      <td>PRCP</td>\n",
       "      <td>GHCND:US1COAR0246</td>\n",
       "      <td>,,N,0730</td>\n",
       "      <td>0.00</td>\n",
       "    </tr>\n",
       "    <tr>\n",
       "      <th>212</th>\n",
       "      <td>2013-12-19T00:00:00</td>\n",
       "      <td>PRCP</td>\n",
       "      <td>GHCND:US1COAR0246</td>\n",
       "      <td>,,N,0830</td>\n",
       "      <td>0.00</td>\n",
       "    </tr>\n",
       "    <tr>\n",
       "      <th>213</th>\n",
       "      <td>2013-12-26T00:00:00</td>\n",
       "      <td>WESD</td>\n",
       "      <td>GHCND:US1COAR0246</td>\n",
       "      <td>,,N,0900</td>\n",
       "      <td>0.00</td>\n",
       "    </tr>\n",
       "    <tr>\n",
       "      <th>214</th>\n",
       "      <td>2013-12-27T00:00:00</td>\n",
       "      <td>PRCP</td>\n",
       "      <td>GHCND:US1COAR0246</td>\n",
       "      <td>,,N,0900</td>\n",
       "      <td>0.00</td>\n",
       "    </tr>\n",
       "    <tr>\n",
       "      <th>215</th>\n",
       "      <td>2013-12-28T00:00:00</td>\n",
       "      <td>PRCP</td>\n",
       "      <td>GHCND:US1COAR0246</td>\n",
       "      <td>,,N,0900</td>\n",
       "      <td>0.00</td>\n",
       "    </tr>\n",
       "  </tbody>\n",
       "</table>\n",
       "<p>216 rows × 5 columns</p>\n",
       "</div>"
      ],
      "text/plain": [
       "                    date datatype            station attributes  value\n",
       "0    2013-05-14T00:00:00     PRCP  GHCND:US1COAR0246   ,,N,0730   0.00\n",
       "1    2013-05-15T00:00:00     PRCP  GHCND:US1COAR0246  T,,N,0700   0.00\n",
       "2    2013-05-16T00:00:00     PRCP  GHCND:US1COAR0246   ,,N,0730   0.04\n",
       "3    2013-05-17T00:00:00     PRCP  GHCND:US1COAR0246   ,,N,0700   0.00\n",
       "4    2013-05-20T00:00:00     PRCP  GHCND:US1COAR0246   ,,N,0800   0.04\n",
       "..                   ...      ...                ...        ...    ...\n",
       "211  2013-12-18T00:00:00     PRCP  GHCND:US1COAR0246   ,,N,0730   0.00\n",
       "212  2013-12-19T00:00:00     PRCP  GHCND:US1COAR0246   ,,N,0830   0.00\n",
       "213  2013-12-26T00:00:00     WESD  GHCND:US1COAR0246   ,,N,0900   0.00\n",
       "214  2013-12-27T00:00:00     PRCP  GHCND:US1COAR0246   ,,N,0900   0.00\n",
       "215  2013-12-28T00:00:00     PRCP  GHCND:US1COAR0246   ,,N,0900   0.00\n",
       "\n",
       "[216 rows x 5 columns]"
      ]
     },
     "execution_count": 9,
     "metadata": {},
     "output_type": "execute_result"
    }
   ],
   "source": [
    "df = pd.DataFrame.from_dict(prcp_2013_dict['results'])\n",
    "df"
   ]
  },
  {
   "cell_type": "markdown",
   "metadata": {},
   "source": [
    "Writing the 2013 data into a csv file"
   ]
  },
  {
   "cell_type": "code",
   "execution_count": 10,
   "metadata": {},
   "outputs": [],
   "source": [
    "# Writing DataFrame to a CSV file\n",
    "df.to_csv(\"output.csv\", index=False)"
   ]
  },
  {
   "cell_type": "code",
   "execution_count": 11,
   "metadata": {},
   "outputs": [
    {
     "data": {
      "text/html": [
       "<div>\n",
       "<style scoped>\n",
       "    .dataframe tbody tr th:only-of-type {\n",
       "        vertical-align: middle;\n",
       "    }\n",
       "\n",
       "    .dataframe tbody tr th {\n",
       "        vertical-align: top;\n",
       "    }\n",
       "\n",
       "    .dataframe thead th {\n",
       "        text-align: right;\n",
       "    }\n",
       "</style>\n",
       "<table border=\"1\" class=\"dataframe\">\n",
       "  <thead>\n",
       "    <tr style=\"text-align: right;\">\n",
       "      <th></th>\n",
       "      <th>date</th>\n",
       "      <th>datatype</th>\n",
       "      <th>station</th>\n",
       "      <th>attributes</th>\n",
       "      <th>value</th>\n",
       "    </tr>\n",
       "  </thead>\n",
       "  <tbody>\n",
       "    <tr>\n",
       "      <th>0</th>\n",
       "      <td>2013-05-14T00:00:00</td>\n",
       "      <td>PRCP</td>\n",
       "      <td>GHCND:US1COAR0246</td>\n",
       "      <td>,,N,0730</td>\n",
       "      <td>0.00</td>\n",
       "    </tr>\n",
       "    <tr>\n",
       "      <th>1</th>\n",
       "      <td>2013-05-15T00:00:00</td>\n",
       "      <td>PRCP</td>\n",
       "      <td>GHCND:US1COAR0246</td>\n",
       "      <td>T,,N,0700</td>\n",
       "      <td>0.00</td>\n",
       "    </tr>\n",
       "    <tr>\n",
       "      <th>2</th>\n",
       "      <td>2013-05-16T00:00:00</td>\n",
       "      <td>PRCP</td>\n",
       "      <td>GHCND:US1COAR0246</td>\n",
       "      <td>,,N,0730</td>\n",
       "      <td>0.04</td>\n",
       "    </tr>\n",
       "    <tr>\n",
       "      <th>3</th>\n",
       "      <td>2013-05-17T00:00:00</td>\n",
       "      <td>PRCP</td>\n",
       "      <td>GHCND:US1COAR0246</td>\n",
       "      <td>,,N,0700</td>\n",
       "      <td>0.00</td>\n",
       "    </tr>\n",
       "    <tr>\n",
       "      <th>4</th>\n",
       "      <td>2013-05-20T00:00:00</td>\n",
       "      <td>PRCP</td>\n",
       "      <td>GHCND:US1COAR0246</td>\n",
       "      <td>,,N,0800</td>\n",
       "      <td>0.04</td>\n",
       "    </tr>\n",
       "    <tr>\n",
       "      <th>...</th>\n",
       "      <td>...</td>\n",
       "      <td>...</td>\n",
       "      <td>...</td>\n",
       "      <td>...</td>\n",
       "      <td>...</td>\n",
       "    </tr>\n",
       "    <tr>\n",
       "      <th>211</th>\n",
       "      <td>2013-12-18T00:00:00</td>\n",
       "      <td>PRCP</td>\n",
       "      <td>GHCND:US1COAR0246</td>\n",
       "      <td>,,N,0730</td>\n",
       "      <td>0.00</td>\n",
       "    </tr>\n",
       "    <tr>\n",
       "      <th>212</th>\n",
       "      <td>2013-12-19T00:00:00</td>\n",
       "      <td>PRCP</td>\n",
       "      <td>GHCND:US1COAR0246</td>\n",
       "      <td>,,N,0830</td>\n",
       "      <td>0.00</td>\n",
       "    </tr>\n",
       "    <tr>\n",
       "      <th>213</th>\n",
       "      <td>2013-12-26T00:00:00</td>\n",
       "      <td>WESD</td>\n",
       "      <td>GHCND:US1COAR0246</td>\n",
       "      <td>,,N,0900</td>\n",
       "      <td>0.00</td>\n",
       "    </tr>\n",
       "    <tr>\n",
       "      <th>214</th>\n",
       "      <td>2013-12-27T00:00:00</td>\n",
       "      <td>PRCP</td>\n",
       "      <td>GHCND:US1COAR0246</td>\n",
       "      <td>,,N,0900</td>\n",
       "      <td>0.00</td>\n",
       "    </tr>\n",
       "    <tr>\n",
       "      <th>215</th>\n",
       "      <td>2013-12-28T00:00:00</td>\n",
       "      <td>PRCP</td>\n",
       "      <td>GHCND:US1COAR0246</td>\n",
       "      <td>,,N,0900</td>\n",
       "      <td>0.00</td>\n",
       "    </tr>\n",
       "  </tbody>\n",
       "</table>\n",
       "<p>216 rows × 5 columns</p>\n",
       "</div>"
      ],
      "text/plain": [
       "                    date datatype            station attributes  value\n",
       "0    2013-05-14T00:00:00     PRCP  GHCND:US1COAR0246   ,,N,0730   0.00\n",
       "1    2013-05-15T00:00:00     PRCP  GHCND:US1COAR0246  T,,N,0700   0.00\n",
       "2    2013-05-16T00:00:00     PRCP  GHCND:US1COAR0246   ,,N,0730   0.04\n",
       "3    2013-05-17T00:00:00     PRCP  GHCND:US1COAR0246   ,,N,0700   0.00\n",
       "4    2013-05-20T00:00:00     PRCP  GHCND:US1COAR0246   ,,N,0800   0.04\n",
       "..                   ...      ...                ...        ...    ...\n",
       "211  2013-12-18T00:00:00     PRCP  GHCND:US1COAR0246   ,,N,0730   0.00\n",
       "212  2013-12-19T00:00:00     PRCP  GHCND:US1COAR0246   ,,N,0830   0.00\n",
       "213  2013-12-26T00:00:00     WESD  GHCND:US1COAR0246   ,,N,0900   0.00\n",
       "214  2013-12-27T00:00:00     PRCP  GHCND:US1COAR0246   ,,N,0900   0.00\n",
       "215  2013-12-28T00:00:00     PRCP  GHCND:US1COAR0246   ,,N,0900   0.00\n",
       "\n",
       "[216 rows x 5 columns]"
      ]
     },
     "execution_count": 11,
     "metadata": {},
     "output_type": "execute_result"
    }
   ],
   "source": [
    "df"
   ]
  },
  {
   "cell_type": "markdown",
   "metadata": {},
   "source": [
    "## Pulling the remaining data\n",
    "The API will only let you pull one year of data, so I will need to set up a loop to pull all the data, add it to the dictionary, and then write it to the csv file"
   ]
  },
  {
   "cell_type": "code",
   "execution_count": 12,
   "metadata": {},
   "outputs": [
    {
     "name": "stdout",
     "output_type": "stream",
     "text": [
      "[{'date': '2014-05-22T00:00:00', 'datatype': 'PRCP', 'station': 'GHCND:US1COAR0246', 'attributes': ',,N,0800', 'value': 0.15}]\n",
      "[{'date': '2015-05-24T00:00:00', 'datatype': 'PRCP', 'station': 'GHCND:US1COAR0246', 'attributes': ',,N,0800', 'value': 0.57}]\n",
      "[{'date': '2016-05-26T00:00:00', 'datatype': 'PRCP', 'station': 'GHCND:US1COAR0246', 'attributes': ',,N,0830', 'value': 1.01}]\n",
      "[{'date': '2017-05-14T00:00:00', 'datatype': 'PRCP', 'station': 'GHCND:US1COAR0246', 'attributes': ',,N,0700', 'value': 0.0}]\n",
      "[{'date': '2018-06-19T00:00:00', 'datatype': 'PRCP', 'station': 'GHCND:US1COAR0246', 'attributes': ',,N,0700', 'value': 0.0}]\n",
      "[{'date': '2019-06-23T00:00:00', 'datatype': 'PRCP', 'station': 'GHCND:US1COAR0246', 'attributes': ',,N,1133', 'value': 0.95}]\n",
      "[{'date': '2020-05-15T00:00:00', 'datatype': 'PRCP', 'station': 'GHCND:US1COAR0246', 'attributes': 'T,,N,0700', 'value': 0.0}]\n",
      "[{'date': '2021-06-20T00:00:00', 'datatype': 'PRCP', 'station': 'GHCND:US1COAR0246', 'attributes': 'T,,N,0700', 'value': 0.0}]\n",
      "[{'date': '2022-07-26T00:00:00', 'datatype': 'PRCP', 'station': 'GHCND:US1COAR0246', 'attributes': ',,N,1720', 'value': 3.0}]\n",
      "[{'date': '2023-07-02T00:00:00', 'datatype': 'PRCP', 'station': 'GHCND:US1COAR0246', 'attributes': ',,N,0700', 'value': 0.0}]\n"
     ]
    }
   ],
   "source": [
    "# Loop to get all years data\n",
    "\n",
    "year = 2014\n",
    "\n",
    "network = 'GHCND'\n",
    "ID = 'US1COAR0246'\n",
    "\n",
    "# station_id = network:ID\n",
    "station_id = network + ':' + ID\n",
    "\n",
    "# creating empty set for holding data\n",
    "\n",
    "while year < 2024:\n",
    "    data = {}\n",
    "    data = {'limit':'1000', 'datasetid': network, 'stationid': station_id}\n",
    "    data.update({'datatypeid': 'PRCP, WESD, WESF'})\n",
    "    data.update({'startdate': str(year) + '-05-14'})\n",
    "    data.update({'enddate': str(year) + '-12-31'})\n",
    "    data.update({'units':'standard'})\n",
    "    data\n",
    "    \n",
    "    r = requests.get('https://www.ncdc.noaa.gov/cdo-web/api/v2/data',params = data, headers = {'token':my_token})\n",
    "    \n",
    "    # load into json file\n",
    "    info = json.loads(r.text)\n",
    "    print(info['results'][:1])\n",
    "    df_temp = pd.DataFrame.from_dict(info['results'])\n",
    "    df = pd.concat([df, df_temp])\n",
    "    \n",
    "    \n",
    "    #print(data)\n",
    "    year = int(year + 1)\n",
    "    #print(year)"
   ]
  },
  {
   "cell_type": "markdown",
   "metadata": {},
   "source": [
    "Taking a look at the data frame"
   ]
  },
  {
   "cell_type": "code",
   "execution_count": 13,
   "metadata": {},
   "outputs": [
    {
     "data": {
      "text/html": [
       "<div>\n",
       "<style scoped>\n",
       "    .dataframe tbody tr th:only-of-type {\n",
       "        vertical-align: middle;\n",
       "    }\n",
       "\n",
       "    .dataframe tbody tr th {\n",
       "        vertical-align: top;\n",
       "    }\n",
       "\n",
       "    .dataframe thead th {\n",
       "        text-align: right;\n",
       "    }\n",
       "</style>\n",
       "<table border=\"1\" class=\"dataframe\">\n",
       "  <thead>\n",
       "    <tr style=\"text-align: right;\">\n",
       "      <th></th>\n",
       "      <th>date</th>\n",
       "      <th>datatype</th>\n",
       "      <th>station</th>\n",
       "      <th>attributes</th>\n",
       "      <th>value</th>\n",
       "    </tr>\n",
       "  </thead>\n",
       "  <tbody>\n",
       "    <tr>\n",
       "      <th>0</th>\n",
       "      <td>2013-05-14T00:00:00</td>\n",
       "      <td>PRCP</td>\n",
       "      <td>GHCND:US1COAR0246</td>\n",
       "      <td>,,N,0730</td>\n",
       "      <td>0.00</td>\n",
       "    </tr>\n",
       "    <tr>\n",
       "      <th>1</th>\n",
       "      <td>2013-05-15T00:00:00</td>\n",
       "      <td>PRCP</td>\n",
       "      <td>GHCND:US1COAR0246</td>\n",
       "      <td>T,,N,0700</td>\n",
       "      <td>0.00</td>\n",
       "    </tr>\n",
       "    <tr>\n",
       "      <th>2</th>\n",
       "      <td>2013-05-16T00:00:00</td>\n",
       "      <td>PRCP</td>\n",
       "      <td>GHCND:US1COAR0246</td>\n",
       "      <td>,,N,0730</td>\n",
       "      <td>0.04</td>\n",
       "    </tr>\n",
       "    <tr>\n",
       "      <th>3</th>\n",
       "      <td>2013-05-17T00:00:00</td>\n",
       "      <td>PRCP</td>\n",
       "      <td>GHCND:US1COAR0246</td>\n",
       "      <td>,,N,0700</td>\n",
       "      <td>0.00</td>\n",
       "    </tr>\n",
       "    <tr>\n",
       "      <th>4</th>\n",
       "      <td>2013-05-20T00:00:00</td>\n",
       "      <td>PRCP</td>\n",
       "      <td>GHCND:US1COAR0246</td>\n",
       "      <td>,,N,0800</td>\n",
       "      <td>0.04</td>\n",
       "    </tr>\n",
       "    <tr>\n",
       "      <th>...</th>\n",
       "      <td>...</td>\n",
       "      <td>...</td>\n",
       "      <td>...</td>\n",
       "      <td>...</td>\n",
       "      <td>...</td>\n",
       "    </tr>\n",
       "    <tr>\n",
       "      <th>3</th>\n",
       "      <td>2022-10-01T00:00:00</td>\n",
       "      <td>PRCP</td>\n",
       "      <td>GHCND:US1COAR0246</td>\n",
       "      <td>,,N,1146</td>\n",
       "      <td>1.22</td>\n",
       "    </tr>\n",
       "    <tr>\n",
       "      <th>4</th>\n",
       "      <td>2022-10-02T00:00:00</td>\n",
       "      <td>PRCP</td>\n",
       "      <td>GHCND:US1COAR0246</td>\n",
       "      <td>,,N,0700</td>\n",
       "      <td>0.18</td>\n",
       "    </tr>\n",
       "    <tr>\n",
       "      <th>5</th>\n",
       "      <td>2022-10-03T00:00:00</td>\n",
       "      <td>PRCP</td>\n",
       "      <td>GHCND:US1COAR0246</td>\n",
       "      <td>T,,N,0700</td>\n",
       "      <td>0.00</td>\n",
       "    </tr>\n",
       "    <tr>\n",
       "      <th>0</th>\n",
       "      <td>2023-07-02T00:00:00</td>\n",
       "      <td>PRCP</td>\n",
       "      <td>GHCND:US1COAR0246</td>\n",
       "      <td>,,N,0700</td>\n",
       "      <td>0.00</td>\n",
       "    </tr>\n",
       "    <tr>\n",
       "      <th>1</th>\n",
       "      <td>2023-07-15T00:00:00</td>\n",
       "      <td>PRCP</td>\n",
       "      <td>GHCND:US1COAR0246</td>\n",
       "      <td>T,,N,0700</td>\n",
       "      <td>0.00</td>\n",
       "    </tr>\n",
       "  </tbody>\n",
       "</table>\n",
       "<p>375 rows × 5 columns</p>\n",
       "</div>"
      ],
      "text/plain": [
       "                   date datatype            station attributes  value\n",
       "0   2013-05-14T00:00:00     PRCP  GHCND:US1COAR0246   ,,N,0730   0.00\n",
       "1   2013-05-15T00:00:00     PRCP  GHCND:US1COAR0246  T,,N,0700   0.00\n",
       "2   2013-05-16T00:00:00     PRCP  GHCND:US1COAR0246   ,,N,0730   0.04\n",
       "3   2013-05-17T00:00:00     PRCP  GHCND:US1COAR0246   ,,N,0700   0.00\n",
       "4   2013-05-20T00:00:00     PRCP  GHCND:US1COAR0246   ,,N,0800   0.04\n",
       "..                  ...      ...                ...        ...    ...\n",
       "3   2022-10-01T00:00:00     PRCP  GHCND:US1COAR0246   ,,N,1146   1.22\n",
       "4   2022-10-02T00:00:00     PRCP  GHCND:US1COAR0246   ,,N,0700   0.18\n",
       "5   2022-10-03T00:00:00     PRCP  GHCND:US1COAR0246  T,,N,0700   0.00\n",
       "0   2023-07-02T00:00:00     PRCP  GHCND:US1COAR0246   ,,N,0700   0.00\n",
       "1   2023-07-15T00:00:00     PRCP  GHCND:US1COAR0246  T,,N,0700   0.00\n",
       "\n",
       "[375 rows x 5 columns]"
      ]
     },
     "execution_count": 13,
     "metadata": {},
     "output_type": "execute_result"
    }
   ],
   "source": [
    "df"
   ]
  },
  {
   "cell_type": "code",
   "execution_count": 14,
   "metadata": {},
   "outputs": [],
   "source": [
    "# Writing DataFrame to a CSV file\n",
    "df.to_csv(\"output2.csv\", index=False)"
   ]
  },
  {
   "cell_type": "markdown",
   "metadata": {},
   "source": [
    "I'm going to guess that the information we are after is stored in the results key.  Let's look at the first 5 and see if we might be right"
   ]
  },
  {
   "cell_type": "markdown",
   "metadata": {},
   "source": [
    "# Conclusion\n",
    "An API was created to access weather data from a single station on the NOAA website. Information was then pulled using that weather station location and data type interested in, precipitation and snow fall. That data was then loaded into a pandas dataframe and put into a csv file for further analysis in the future."
   ]
  },
  {
   "cell_type": "code",
   "execution_count": null,
   "metadata": {},
   "outputs": [],
   "source": []
  }
 ],
 "metadata": {
  "kernelspec": {
   "display_name": "Python 3 (ipykernel)",
   "language": "python",
   "name": "python3"
  },
  "language_info": {
   "codemirror_mode": {
    "name": "ipython",
    "version": 3
   },
   "file_extension": ".py",
   "mimetype": "text/x-python",
   "name": "python",
   "nbconvert_exporter": "python",
   "pygments_lexer": "ipython3",
   "version": "3.10.9"
  },
  "toc-autonumbering": false
 },
 "nbformat": 4,
 "nbformat_minor": 4
}
